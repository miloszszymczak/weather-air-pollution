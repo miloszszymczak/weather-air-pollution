{
 "cells": [
  {
   "cell_type": "code",
   "execution_count": 106,
   "metadata": {
    "collapsed": true
   },
   "outputs": [],
   "source": [
    "import numpy as np\n",
    "import pandas as pd\n",
    "\n",
    "X = pd.read_csv('data/data_synop_krakow.csv')\n",
    "Y = pd.read_csv('data/data_pm10_krakow.csv')"
   ]
  },
  {
   "cell_type": "code",
   "execution_count": 107,
   "outputs": [],
   "source": [
    "X = X.sort_values(by=['date'], ascending=True)\n",
    "\n",
    "for i in range(1, 8):\n",
    "    X[f'minus_{i}_days_cloud'] = X['cloud'].shift(i)\n",
    "    X[f'minus_{i}_days_wind'] = X['wind'].shift(i)\n",
    "    X[f'minus_{i}_days_temp'] = X['temp'].shift(i)\n",
    "    X[f'minus_{i}_days_humidity'] = X['humidity'].shift(i)\n",
    "    X[f'minus_{i}_days_pressure'] = X['pressure'].shift(i)\n",
    "    X[f'minus_{i}_days_precipitation_day'] = X['precipitation_day'].shift(i)\n",
    "    X[f'minus_{i}_days_precipitation_night'] = X['precipitation_night'].shift(i)\n",
    "\n",
    "X = X.drop(columns=['cloud', 'wind', 'temp', 'humidity', 'pressure', 'precipitation_day', 'precipitation_night'])\n",
    "X = X.dropna()\n",
    "\n",
    "X_1 = X.drop(columns=[column for column in list(X.columns) if any(str(i) in column for i in range(2, 8))])\n",
    "XY_1 = X_1.merge(Y, on='date')\n",
    "XY_1 = XY_1.drop(columns='date')\n",
    "X_3 = X.drop(columns=[column for column in list(X.columns) if any(str(i) in column for i in range(4, 8))])\n",
    "XY_3 = X_3.merge(Y, on='date')\n",
    "XY_3 = XY_3.drop(columns='date')\n",
    "X_7 = X.copy()\n",
    "XY_7 = X_7.merge(Y, on='date')\n",
    "XY_7 = XY_7.drop(columns='date')\n"
   ],
   "metadata": {
    "collapsed": false
   }
  },
  {
   "cell_type": "code",
   "execution_count": 108,
   "outputs": [
    {
     "name": "stdout",
     "output_type": "stream",
     "text": [
      "[0.56751468 0.57860404 0.57142857 0.57637076 0.6194517 ]\n",
      "[0.58643183 0.58969341 0.58773646 0.60052219 0.64295039]\n",
      "[0.56686236 0.58121331 0.59817352 0.58420366 0.63577023]\n"
     ]
    }
   ],
   "source": [
    "from sklearn.model_selection import cross_validate\n",
    "from sklearn.ensemble import RandomForestClassifier\n",
    "\n",
    "X1 = XY_1.drop(['pm_10'], axis=1).values\n",
    "Y1 = pd.cut(XY_1['pm_10'], bins=[-np.Inf, 50.0, 100.0, 150.0, np.Inf], labels=['clean', 'polluted', 'warning', 'alarm']).values\n",
    "X3 = XY_3.drop(['pm_10'], axis=1).values\n",
    "Y3 = pd.cut(XY_3['pm_10'], bins=[-np.Inf, 50.0, 100.0, 150.0, np.Inf], labels=['clean', 'polluted', 'warning', 'alarm']).values\n",
    "\n",
    "X7 = XY_7.drop(['pm_10'], axis=1).values\n",
    "Y7 = pd.cut(XY_7['pm_10'], bins=[-np.Inf, 50.0, 100.0, 150.0, np.Inf], labels=['clean', 'polluted', 'warning', 'alarm']).values\n",
    "\n",
    "regr = RandomForestClassifier(n_jobs=8)\n",
    "print(cross_validate(regr, X1, Y1, n_jobs=8)['test_score'])\n",
    "print(cross_validate(regr, X3, Y3, n_jobs=8)['test_score'])\n",
    "print(cross_validate(regr, X7, Y7, n_jobs=8)['test_score'])"
   ],
   "metadata": {
    "collapsed": false
   }
  },
  {
   "cell_type": "code",
   "execution_count": null,
   "outputs": [],
   "source": [],
   "metadata": {
    "collapsed": false
   }
  }
 ],
 "metadata": {
  "kernelspec": {
   "display_name": "Python 3",
   "language": "python",
   "name": "python3"
  },
  "language_info": {
   "codemirror_mode": {
    "name": "ipython",
    "version": 2
   },
   "file_extension": ".py",
   "mimetype": "text/x-python",
   "name": "python",
   "nbconvert_exporter": "python",
   "pygments_lexer": "ipython2",
   "version": "2.7.6"
  }
 },
 "nbformat": 4,
 "nbformat_minor": 0
}
